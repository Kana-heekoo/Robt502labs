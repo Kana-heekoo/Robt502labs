{
 "cells": [
  {
   "cell_type": "code",
   "execution_count": 2,
   "id": "45acf257",
   "metadata": {},
   "outputs": [],
   "source": [
    "import cv2\n",
    "import numpy as np\n",
    "import matplotlib.pyplot as plt"
   ]
  },
  {
   "cell_type": "code",
   "execution_count": 5,
   "id": "bdd4403a",
   "metadata": {},
   "outputs": [],
   "source": [
    "img1 = cv2.imread(\"1.jpg\")\n",
    "img2 = cv2.imread(\"2.jpg\")\n",
    "img3 = cv2.imread(\"3.jpg\")\n",
    "img4 = cv2.imread(\"4.jpg\")\n",
    "img5 = cv2.imread(\"5.jpg\")\n",
    "img6 = cv2.imread(\"6.jpg\")\n",
    "images = [img1, img2, img3, img4, img5, img6]"
   ]
  },
  {
   "cell_type": "code",
   "execution_count": 41,
   "id": "adc6e81e",
   "metadata": {},
   "outputs": [
    {
     "name": "stdout",
     "output_type": "stream",
     "text": [
      "Horizontal stitching failed.\n",
      "Vertical stitching failed.\n"
     ]
    }
   ],
   "source": [
    "stitcher = cv2.Stitcher_create()\n",
    "\n",
    "# Stitch horizontally\n",
    "result_horizontal, stitched_horizontal = stitcher.stitch((img1, img2, img3))\n",
    "\n",
    "# Stitch vertically\n",
    "result_vertical, stitched_vertical = stitcher.stitch((img3, img5, img6))\n",
    "\n",
    "# Check if stitching was successful\n",
    "if result_horizontal == cv2.Stitcher_OK:\n",
    "    cv2.imwrite('stitched_horizontal.jpg', stitched_horizontal)\n",
    "    cv2.imshow('Stitched Horizontal', stitched_horizontal)\n",
    "    cv2.waitKey(0)\n",
    "    cv2.destroyAllWindows()\n",
    "else:\n",
    "    print(\"Horizontal stitching failed.\")\n",
    "\n",
    "if result_vertical == cv2.Stitcher_OK:\n",
    "    cv2.imwrite('stitched_vertical.jpg', stitched_vertical)\n",
    "    cv2.imshow('Stitched Vertical', stitched_vertical)\n",
    "    cv2.waitKey(0)\n",
    "    cv2.destroyAllWindows()\n",
    "else:\n",
    "    print(\"Vertical stitching failed.\")"
   ]
  },
  {
   "cell_type": "code",
   "execution_count": 9,
   "id": "6d6cfa7a",
   "metadata": {},
   "outputs": [],
   "source": [
    "gray1 = cv2.cvtColor(img1, cv2.COLOR_BGR2GRAY)\n",
    "gray2 = cv2.cvtColor(img2, cv2.COLOR_BGR2GRAY)\n",
    "gray3 = cv2.cvtColor(img3, cv2.COLOR_BGR2GRAY)\n",
    "gray4 = cv2.cvtColor(img4, cv2.COLOR_BGR2GRAY)\n",
    "gray5 = cv2.cvtColor(img5, cv2.COLOR_BGR2GRAY)\n",
    "gray6 = cv2.cvtColor(img6, cv2.COLOR_BGR2GRAY)\n",
    "\n",
    "# Initialize the feature detector (SIFT or ORB can be used)\n",
    "detector = cv2.ORB_create()\n",
    "\n",
    "# Detect keypoints and compute descriptors\n",
    "kp1, des1 = detector.detectAndCompute(gray1, None)\n",
    "kp2, des2 = detector.detectAndCompute(gray2, None)\n",
    "kp3, des3 = detector.detectAndCompute(gray3, None)\n",
    "kp4, des4 = detector.detectAndCompute(gray4, None)\n",
    "kp5, des5 = detector.detectAndCompute(gray5, None)\n",
    "kp6, des6 = detector.detectAndCompute(gray6, None)\n",
    "\n",
    "# Initialize the feature matcher\n",
    "matcher = cv2.BFMatcher(cv2.NORM_HAMMING, crossCheck=True)\n",
    "\n",
    "# Match descriptors between adjacent images\n",
    "matches1to2 = matcher.match(des1, des2)\n",
    "matches4to5 = matcher.match(des4, des5)\n",
    "\n",
    "# Sort matches by distance\n",
    "matches1to2 = sorted(matches1to2, key=lambda x: x.distance)\n",
    "matches4to5 = sorted(matches4to5, key=lambda x: x.distance)\n",
    "\n",
    "# Extract matched keypoints\n",
    "matched_kp1to2 = np.float32([kp1[m.queryIdx].pt for m in matches1to2]).reshape(-1, 1, 2)\n",
    "matched_kp2to1 = np.float32([kp2[m.trainIdx].pt for m in matches1to2]).reshape(-1, 1, 2)\n",
    "\n",
    "matched_kp4to5 = np.float32([kp4[m.queryIdx].pt for m in matches4to5]).reshape(-1, 1, 2)\n",
    "matched_kp5to4 = np.float32([kp5[m.trainIdx].pt for m in matches4to5]).reshape(-1, 1, 2)\n",
    "\n",
    "# Estimate homography\n",
    "H1to2, _ = cv2.findHomography(matched_kp1to2, matched_kp2to1, cv2.RANSAC, 5.0)\n",
    "H4to5, _ = cv2.findHomography(matched_kp4to5, matched_kp5to4, cv2.RANSAC, 5.0)\n",
    "\n",
    "# Warp images\n",
    "result1to2 = cv2.warpPerspective(img1, H1to2, (img2.shape[1] + img1.shape[1], img2.shape[0]))\n",
    "result1to2[0:img2.shape[0], 0:img2.shape[1]] = img2\n",
    "\n",
    "result4to5 = cv2.warpPerspective(img4, H4to5, (img5.shape[1] + img4.shape[1], img5.shape[0]))\n",
    "result4to5[0:img5.shape[0], 0:img5.shape[1]] = img5\n",
    "\n",
    "# Display results\n",
    "cv2.imshow('Result 1 to 2', result1to2)\n",
    "cv2.imshow('Result 4 to 5', result4to5)\n",
    "cv2.imwrite(\"output12.jpg\", result1to2)\n",
    "cv2.imwrite(\"output45.jpg\", result4to5)\n",
    "cv2.waitKey(0)\n",
    "cv2.destroyAllWindows()"
   ]
  },
  {
   "cell_type": "code",
   "execution_count": null,
   "id": "47e89d85",
   "metadata": {},
   "outputs": [],
   "source": []
  }
 ],
 "metadata": {
  "kernelspec": {
   "display_name": "Python 3 (ipykernel)",
   "language": "python",
   "name": "python3"
  },
  "language_info": {
   "codemirror_mode": {
    "name": "ipython",
    "version": 3
   },
   "file_extension": ".py",
   "mimetype": "text/x-python",
   "name": "python",
   "nbconvert_exporter": "python",
   "pygments_lexer": "ipython3",
   "version": "3.11.5"
  }
 },
 "nbformat": 4,
 "nbformat_minor": 5
}
